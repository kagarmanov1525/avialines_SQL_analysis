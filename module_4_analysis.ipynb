{
 "cells": [
  {
   "cell_type": "code",
   "execution_count": 1,
   "id": "5ab59c24",
   "metadata": {},
   "outputs": [],
   "source": [
    "import pandas as pd\n",
    "import numpy as np\n",
    "import inspect\n",
    "from datetime import datetime, timedelta\n",
    "import matplotlib.pyplot as plt\n",
    "import seaborn as sns"
   ]
  },
  {
   "cell_type": "code",
   "execution_count": 2,
   "id": "7c1dce50",
   "metadata": {},
   "outputs": [
    {
     "name": "stdout",
     "output_type": "stream",
     "text": [
      "<class 'pandas.core.frame.DataFrame'>\n",
      "RangeIndex: 193 entries, 0 to 192\n",
      "Data columns (total 13 columns):\n",
      " #   Column         Non-Null Count  Dtype  \n",
      "---  ------         --------------  -----  \n",
      " 0   flight_id      193 non-null    int64  \n",
      " 1   flight_no      193 non-null    object \n",
      " 2   city_dep       193 non-null    object \n",
      " 3   city_arr       193 non-null    object \n",
      " 4   month_arrival  193 non-null    object \n",
      " 5   aircraft_code  193 non-null    object \n",
      " 6   flight_time    193 non-null    float64\n",
      " 7   flight_cost    193 non-null    float64\n",
      " 8   ticket_count   193 non-null    int64  \n",
      " 9   total_seats    193 non-null    int64  \n",
      " 10  occ_perc       193 non-null    int64  \n",
      " 11  rev            193 non-null    int64  \n",
      " 12  profit         193 non-null    float64\n",
      "dtypes: float64(3), int64(5), object(5)\n",
      "memory usage: 19.7+ KB\n"
     ]
    }
   ],
   "source": [
    "a = pd.read_csv('Flight_id.csv')\n",
    "df = a.copy()\n",
    "df.info()"
   ]
  },
  {
   "cell_type": "markdown",
   "id": "386fe856",
   "metadata": {},
   "source": [
    " Описание данных:  \n",
    " 0   flight_id      - номер рейса  \n",
    " 1   flight_no      - регулярное направление  \n",
    " 2   city           - город отправления  \n",
    " 3   city_arr       - город прибытия  \n",
    " 4   month_arrival  - дата прибытия  \n",
    " 5   aircraft_code  - код типа самолёта  \n",
    " 6   flight_time    - время полёта, мин  \n",
    " 7   flight_cost    - затраты на рейс, тыс. руб. = стоимость топлива * расход топлива марки самолёта + постоянные издержки на рейс (обслуживание самолёта, пошлины аэропорта, стоянка и пр. ~ 50 000 р./рейс) Расход топлива: 2,4т/час для 733 и 1,7 т/час для SU9, стоимость топлива 50тыс.руб/т\n",
    " 8   ticket_count   - количество билетов купленных на рейс  \n",
    " 9   total_seats    - максимальное количество мест на борту  \n",
    " 10   occ_perc       - заполненнность самолёта (отношение купленных билетов к максимальному количеству мест)  \n",
    " 11   rev           - выручка от продажи билетов, тыс. руб\n",
    " 12  profit         - прибыльность рейса, тыс. руб = выручка от продажи билетов - затраты на рейс"
   ]
  },
  {
   "cell_type": "code",
   "execution_count": 3,
   "id": "270b1776",
   "metadata": {},
   "outputs": [
    {
     "data": {
      "text/html": [
       "<div>\n",
       "<style scoped>\n",
       "    .dataframe tbody tr th:only-of-type {\n",
       "        vertical-align: middle;\n",
       "    }\n",
       "\n",
       "    .dataframe tbody tr th {\n",
       "        vertical-align: top;\n",
       "    }\n",
       "\n",
       "    .dataframe thead th {\n",
       "        text-align: right;\n",
       "    }\n",
       "</style>\n",
       "<table border=\"1\" class=\"dataframe\">\n",
       "  <thead>\n",
       "    <tr style=\"text-align: right;\">\n",
       "      <th></th>\n",
       "      <th>flight_id</th>\n",
       "      <th>flight_no</th>\n",
       "      <th>city_dep</th>\n",
       "      <th>city_arr</th>\n",
       "      <th>month_arrival</th>\n",
       "      <th>aircraft_code</th>\n",
       "      <th>flight_time</th>\n",
       "      <th>flight_cost</th>\n",
       "      <th>ticket_count</th>\n",
       "      <th>total_seats</th>\n",
       "      <th>occ_perc</th>\n",
       "      <th>rev</th>\n",
       "      <th>profit</th>\n",
       "    </tr>\n",
       "  </thead>\n",
       "  <tbody>\n",
       "    <tr>\n",
       "      <th>73</th>\n",
       "      <td>136345</td>\n",
       "      <td>PG0252</td>\n",
       "      <td>Anapa</td>\n",
       "      <td>Moscow</td>\n",
       "      <td>2017-01-01</td>\n",
       "      <td>733</td>\n",
       "      <td>100.0</td>\n",
       "      <td>250.0</td>\n",
       "      <td>108</td>\n",
       "      <td>130</td>\n",
       "      <td>83</td>\n",
       "      <td>1518</td>\n",
       "      <td>1268.0</td>\n",
       "    </tr>\n",
       "    <tr>\n",
       "      <th>171</th>\n",
       "      <td>136888</td>\n",
       "      <td>PG0480</td>\n",
       "      <td>Anapa</td>\n",
       "      <td>Belgorod</td>\n",
       "      <td>2017-02-01</td>\n",
       "      <td>SU9</td>\n",
       "      <td>50.0</td>\n",
       "      <td>121.0</td>\n",
       "      <td>79</td>\n",
       "      <td>97</td>\n",
       "      <td>81</td>\n",
       "      <td>626</td>\n",
       "      <td>505.0</td>\n",
       "    </tr>\n",
       "    <tr>\n",
       "      <th>24</th>\n",
       "      <td>136479</td>\n",
       "      <td>PG0252</td>\n",
       "      <td>Anapa</td>\n",
       "      <td>Moscow</td>\n",
       "      <td>2017-02-01</td>\n",
       "      <td>733</td>\n",
       "      <td>100.0</td>\n",
       "      <td>250.0</td>\n",
       "      <td>122</td>\n",
       "      <td>130</td>\n",
       "      <td>93</td>\n",
       "      <td>1738</td>\n",
       "      <td>1488.0</td>\n",
       "    </tr>\n",
       "    <tr>\n",
       "      <th>184</th>\n",
       "      <td>136514</td>\n",
       "      <td>PG0194</td>\n",
       "      <td>Anapa</td>\n",
       "      <td>Novokuznetsk</td>\n",
       "      <td>2017-02-01</td>\n",
       "      <td>733</td>\n",
       "      <td>305.0</td>\n",
       "      <td>660.0</td>\n",
       "      <td>0</td>\n",
       "      <td>130</td>\n",
       "      <td>0</td>\n",
       "      <td>0</td>\n",
       "      <td>-660.0</td>\n",
       "    </tr>\n",
       "    <tr>\n",
       "      <th>75</th>\n",
       "      <td>136491</td>\n",
       "      <td>PG0252</td>\n",
       "      <td>Anapa</td>\n",
       "      <td>Moscow</td>\n",
       "      <td>2016-12-01</td>\n",
       "      <td>733</td>\n",
       "      <td>100.0</td>\n",
       "      <td>250.0</td>\n",
       "      <td>103</td>\n",
       "      <td>130</td>\n",
       "      <td>79</td>\n",
       "      <td>1505</td>\n",
       "      <td>1255.0</td>\n",
       "    </tr>\n",
       "    <tr>\n",
       "      <th>12</th>\n",
       "      <td>136423</td>\n",
       "      <td>PG0252</td>\n",
       "      <td>Anapa</td>\n",
       "      <td>Moscow</td>\n",
       "      <td>2017-01-01</td>\n",
       "      <td>733</td>\n",
       "      <td>100.0</td>\n",
       "      <td>250.0</td>\n",
       "      <td>129</td>\n",
       "      <td>130</td>\n",
       "      <td>99</td>\n",
       "      <td>1849</td>\n",
       "      <td>1599.0</td>\n",
       "    </tr>\n",
       "    <tr>\n",
       "      <th>33</th>\n",
       "      <td>136293</td>\n",
       "      <td>PG0252</td>\n",
       "      <td>Anapa</td>\n",
       "      <td>Moscow</td>\n",
       "      <td>2017-01-01</td>\n",
       "      <td>733</td>\n",
       "      <td>100.0</td>\n",
       "      <td>250.0</td>\n",
       "      <td>114</td>\n",
       "      <td>130</td>\n",
       "      <td>87</td>\n",
       "      <td>1690</td>\n",
       "      <td>1440.0</td>\n",
       "    </tr>\n",
       "    <tr>\n",
       "      <th>114</th>\n",
       "      <td>136586</td>\n",
       "      <td>PG0480</td>\n",
       "      <td>Anapa</td>\n",
       "      <td>Belgorod</td>\n",
       "      <td>2017-01-01</td>\n",
       "      <td>SU9</td>\n",
       "      <td>50.0</td>\n",
       "      <td>121.0</td>\n",
       "      <td>96</td>\n",
       "      <td>97</td>\n",
       "      <td>98</td>\n",
       "      <td>759</td>\n",
       "      <td>638.0</td>\n",
       "    </tr>\n",
       "    <tr>\n",
       "      <th>158</th>\n",
       "      <td>136592</td>\n",
       "      <td>PG0480</td>\n",
       "      <td>Anapa</td>\n",
       "      <td>Belgorod</td>\n",
       "      <td>2016-12-01</td>\n",
       "      <td>SU9</td>\n",
       "      <td>50.0</td>\n",
       "      <td>121.0</td>\n",
       "      <td>89</td>\n",
       "      <td>97</td>\n",
       "      <td>91</td>\n",
       "      <td>677</td>\n",
       "      <td>556.0</td>\n",
       "    </tr>\n",
       "    <tr>\n",
       "      <th>121</th>\n",
       "      <td>136873</td>\n",
       "      <td>PG0480</td>\n",
       "      <td>Anapa</td>\n",
       "      <td>Belgorod</td>\n",
       "      <td>2016-12-01</td>\n",
       "      <td>SU9</td>\n",
       "      <td>50.0</td>\n",
       "      <td>121.0</td>\n",
       "      <td>96</td>\n",
       "      <td>97</td>\n",
       "      <td>98</td>\n",
       "      <td>759</td>\n",
       "      <td>638.0</td>\n",
       "    </tr>\n",
       "  </tbody>\n",
       "</table>\n",
       "</div>"
      ],
      "text/plain": [
       "     flight_id flight_no city_dep      city_arr month_arrival aircraft_code  \\\n",
       "73      136345    PG0252    Anapa        Moscow    2017-01-01           733   \n",
       "171     136888    PG0480    Anapa      Belgorod    2017-02-01           SU9   \n",
       "24      136479    PG0252    Anapa        Moscow    2017-02-01           733   \n",
       "184     136514    PG0194    Anapa  Novokuznetsk    2017-02-01           733   \n",
       "75      136491    PG0252    Anapa        Moscow    2016-12-01           733   \n",
       "12      136423    PG0252    Anapa        Moscow    2017-01-01           733   \n",
       "33      136293    PG0252    Anapa        Moscow    2017-01-01           733   \n",
       "114     136586    PG0480    Anapa      Belgorod    2017-01-01           SU9   \n",
       "158     136592    PG0480    Anapa      Belgorod    2016-12-01           SU9   \n",
       "121     136873    PG0480    Anapa      Belgorod    2016-12-01           SU9   \n",
       "\n",
       "     flight_time  flight_cost  ticket_count  total_seats  occ_perc   rev  \\\n",
       "73         100.0        250.0           108          130        83  1518   \n",
       "171         50.0        121.0            79           97        81   626   \n",
       "24         100.0        250.0           122          130        93  1738   \n",
       "184        305.0        660.0             0          130         0     0   \n",
       "75         100.0        250.0           103          130        79  1505   \n",
       "12         100.0        250.0           129          130        99  1849   \n",
       "33         100.0        250.0           114          130        87  1690   \n",
       "114         50.0        121.0            96           97        98   759   \n",
       "158         50.0        121.0            89           97        91   677   \n",
       "121         50.0        121.0            96           97        98   759   \n",
       "\n",
       "     profit  \n",
       "73   1268.0  \n",
       "171   505.0  \n",
       "24   1488.0  \n",
       "184  -660.0  \n",
       "75   1255.0  \n",
       "12   1599.0  \n",
       "33   1440.0  \n",
       "114   638.0  \n",
       "158   556.0  \n",
       "121   638.0  "
      ]
     },
     "execution_count": 3,
     "metadata": {},
     "output_type": "execute_result"
    }
   ],
   "source": [
    "df.sample(10)"
   ]
  },
  {
   "cell_type": "markdown",
   "id": "9398ba03",
   "metadata": {},
   "source": [
    "Посмотрим на суммарные значения и средние для всех полётов"
   ]
  },
  {
   "cell_type": "code",
   "execution_count": 4,
   "id": "88091c2a",
   "metadata": {},
   "outputs": [
    {
     "data": {
      "text/plain": [
       "flight_time      17465.0\n",
       "flight_cost      41970.0\n",
       "ticket_count     18351.0\n",
       "total_seats      22120.0\n",
       "occ_perc         16161.0\n",
       "rev             212331.0\n",
       "profit          170361.0\n",
       "dtype: float64"
      ]
     },
     "execution_count": 4,
     "metadata": {},
     "output_type": "execute_result"
    }
   ],
   "source": [
    "df.iloc[:,-7:].sum()"
   ]
  },
  {
   "cell_type": "code",
   "execution_count": 5,
   "id": "fd1eb0bd",
   "metadata": {},
   "outputs": [
    {
     "data": {
      "text/plain": [
       "flight_time       90.492228\n",
       "flight_cost      217.461140\n",
       "ticket_count      95.082902\n",
       "total_seats      114.611399\n",
       "occ_perc          83.735751\n",
       "rev             1100.160622\n",
       "profit           882.699482\n",
       "dtype: float64"
      ]
     },
     "execution_count": 5,
     "metadata": {},
     "output_type": "execute_result"
    }
   ],
   "source": [
    "df.iloc[:,-7:].mean()"
   ]
  },
  {
   "cell_type": "markdown",
   "id": "0c12642e",
   "metadata": {},
   "source": [
    "Преобразуем дату в номер месяца"
   ]
  },
  {
   "cell_type": "code",
   "execution_count": 6,
   "id": "3608595f",
   "metadata": {},
   "outputs": [
    {
     "data": {
      "text/plain": [
       "0      2016-12-01\n",
       "1      2016-12-01\n",
       "2      2016-12-01\n",
       "3      2017-01-01\n",
       "4      2017-01-01\n",
       "          ...    \n",
       "188    2017-01-01\n",
       "189    2017-01-01\n",
       "190    2017-01-01\n",
       "191    2017-01-01\n",
       "192    2016-12-01\n",
       "Name: month_arrival, Length: 193, dtype: object"
      ]
     },
     "execution_count": 6,
     "metadata": {},
     "output_type": "execute_result"
    }
   ],
   "source": [
    "df.month_arrival"
   ]
  },
  {
   "cell_type": "code",
   "execution_count": 7,
   "id": "5147af88",
   "metadata": {},
   "outputs": [],
   "source": [
    "for i in df.index:\n",
    "    df.loc[i, 'month'] = datetime.strptime(df.loc[i, 'month_arrival'], '%Y-%m-%d').month"
   ]
  },
  {
   "cell_type": "markdown",
   "id": "10854051",
   "metadata": {},
   "source": [
    "Сгруппируем рейсы по направлениям, посмотрим на средние и суммарные значения признаков и их количество"
   ]
  },
  {
   "cell_type": "code",
   "execution_count": 8,
   "id": "23d0833c",
   "metadata": {},
   "outputs": [
    {
     "data": {
      "text/html": [
       "<div>\n",
       "<style scoped>\n",
       "    .dataframe tbody tr th:only-of-type {\n",
       "        vertical-align: middle;\n",
       "    }\n",
       "\n",
       "    .dataframe tbody tr th {\n",
       "        vertical-align: top;\n",
       "    }\n",
       "\n",
       "    .dataframe thead th {\n",
       "        text-align: right;\n",
       "    }\n",
       "</style>\n",
       "<table border=\"1\" class=\"dataframe\">\n",
       "  <thead>\n",
       "    <tr style=\"text-align: right;\">\n",
       "      <th></th>\n",
       "      <th>flight_id</th>\n",
       "      <th>flight_time</th>\n",
       "      <th>flight_cost</th>\n",
       "      <th>ticket_count</th>\n",
       "      <th>total_seats</th>\n",
       "      <th>occ_perc</th>\n",
       "      <th>rev</th>\n",
       "      <th>profit</th>\n",
       "      <th>month</th>\n",
       "    </tr>\n",
       "    <tr>\n",
       "      <th>city_arr</th>\n",
       "      <th></th>\n",
       "      <th></th>\n",
       "      <th></th>\n",
       "      <th></th>\n",
       "      <th></th>\n",
       "      <th></th>\n",
       "      <th></th>\n",
       "      <th></th>\n",
       "      <th></th>\n",
       "    </tr>\n",
       "  </thead>\n",
       "  <tbody>\n",
       "    <tr>\n",
       "      <th>Moscow</th>\n",
       "      <td>136307.800000</td>\n",
       "      <td>100.0</td>\n",
       "      <td>250.0</td>\n",
       "      <td>113.444444</td>\n",
       "      <td>130.0</td>\n",
       "      <td>86.866667</td>\n",
       "      <td>1646.944444</td>\n",
       "      <td>1396.944444</td>\n",
       "      <td>5.100000</td>\n",
       "    </tr>\n",
       "    <tr>\n",
       "      <th>Belgorod</th>\n",
       "      <td>136773.788889</td>\n",
       "      <td>50.0</td>\n",
       "      <td>121.0</td>\n",
       "      <td>90.455556</td>\n",
       "      <td>97.0</td>\n",
       "      <td>92.700000</td>\n",
       "      <td>712.288889</td>\n",
       "      <td>591.288889</td>\n",
       "      <td>5.100000</td>\n",
       "    </tr>\n",
       "    <tr>\n",
       "      <th>Novokuznetsk</th>\n",
       "      <td>136535.923077</td>\n",
       "      <td>305.0</td>\n",
       "      <td>660.0</td>\n",
       "      <td>0.000000</td>\n",
       "      <td>130.0</td>\n",
       "      <td>0.000000</td>\n",
       "      <td>0.000000</td>\n",
       "      <td>-660.000000</td>\n",
       "      <td>4.692308</td>\n",
       "    </tr>\n",
       "  </tbody>\n",
       "</table>\n",
       "</div>"
      ],
      "text/plain": [
       "                  flight_id  flight_time  flight_cost  ticket_count  \\\n",
       "city_arr                                                              \n",
       "Moscow        136307.800000        100.0        250.0    113.444444   \n",
       "Belgorod      136773.788889         50.0        121.0     90.455556   \n",
       "Novokuznetsk  136535.923077        305.0        660.0      0.000000   \n",
       "\n",
       "              total_seats   occ_perc          rev       profit     month  \n",
       "city_arr                                                                  \n",
       "Moscow              130.0  86.866667  1646.944444  1396.944444  5.100000  \n",
       "Belgorod             97.0  92.700000   712.288889   591.288889  5.100000  \n",
       "Novokuznetsk        130.0   0.000000     0.000000  -660.000000  4.692308  "
      ]
     },
     "execution_count": 8,
     "metadata": {},
     "output_type": "execute_result"
    }
   ],
   "source": [
    "df.groupby('city_arr').mean().sort_values(by = 'profit', ascending = False)"
   ]
  },
  {
   "cell_type": "code",
   "execution_count": 9,
   "id": "3df40bac",
   "metadata": {},
   "outputs": [
    {
     "data": {
      "text/html": [
       "<div>\n",
       "<style scoped>\n",
       "    .dataframe tbody tr th:only-of-type {\n",
       "        vertical-align: middle;\n",
       "    }\n",
       "\n",
       "    .dataframe tbody tr th {\n",
       "        vertical-align: top;\n",
       "    }\n",
       "\n",
       "    .dataframe thead th {\n",
       "        text-align: right;\n",
       "    }\n",
       "</style>\n",
       "<table border=\"1\" class=\"dataframe\">\n",
       "  <thead>\n",
       "    <tr style=\"text-align: right;\">\n",
       "      <th></th>\n",
       "      <th>flight_id</th>\n",
       "      <th>flight_time</th>\n",
       "      <th>flight_cost</th>\n",
       "      <th>ticket_count</th>\n",
       "      <th>total_seats</th>\n",
       "      <th>occ_perc</th>\n",
       "      <th>rev</th>\n",
       "      <th>profit</th>\n",
       "      <th>month</th>\n",
       "    </tr>\n",
       "    <tr>\n",
       "      <th>city_arr</th>\n",
       "      <th></th>\n",
       "      <th></th>\n",
       "      <th></th>\n",
       "      <th></th>\n",
       "      <th></th>\n",
       "      <th></th>\n",
       "      <th></th>\n",
       "      <th></th>\n",
       "      <th></th>\n",
       "    </tr>\n",
       "  </thead>\n",
       "  <tbody>\n",
       "    <tr>\n",
       "      <th>Moscow</th>\n",
       "      <td>12267702</td>\n",
       "      <td>9000.0</td>\n",
       "      <td>22500.0</td>\n",
       "      <td>10210</td>\n",
       "      <td>11700</td>\n",
       "      <td>7818</td>\n",
       "      <td>148225</td>\n",
       "      <td>125725.0</td>\n",
       "      <td>459.0</td>\n",
       "    </tr>\n",
       "    <tr>\n",
       "      <th>Belgorod</th>\n",
       "      <td>12309641</td>\n",
       "      <td>4500.0</td>\n",
       "      <td>10890.0</td>\n",
       "      <td>8141</td>\n",
       "      <td>8730</td>\n",
       "      <td>8343</td>\n",
       "      <td>64106</td>\n",
       "      <td>53216.0</td>\n",
       "      <td>459.0</td>\n",
       "    </tr>\n",
       "    <tr>\n",
       "      <th>Novokuznetsk</th>\n",
       "      <td>1774967</td>\n",
       "      <td>3965.0</td>\n",
       "      <td>8580.0</td>\n",
       "      <td>0</td>\n",
       "      <td>1690</td>\n",
       "      <td>0</td>\n",
       "      <td>0</td>\n",
       "      <td>-8580.0</td>\n",
       "      <td>61.0</td>\n",
       "    </tr>\n",
       "  </tbody>\n",
       "</table>\n",
       "</div>"
      ],
      "text/plain": [
       "              flight_id  flight_time  flight_cost  ticket_count  total_seats  \\\n",
       "city_arr                                                                       \n",
       "Moscow         12267702       9000.0      22500.0         10210        11700   \n",
       "Belgorod       12309641       4500.0      10890.0          8141         8730   \n",
       "Novokuznetsk    1774967       3965.0       8580.0             0         1690   \n",
       "\n",
       "              occ_perc     rev    profit  month  \n",
       "city_arr                                         \n",
       "Moscow            7818  148225  125725.0  459.0  \n",
       "Belgorod          8343   64106   53216.0  459.0  \n",
       "Novokuznetsk         0       0   -8580.0   61.0  "
      ]
     },
     "execution_count": 9,
     "metadata": {},
     "output_type": "execute_result"
    }
   ],
   "source": [
    "df.groupby('city_arr').sum().sort_values(by = 'profit', ascending = False)"
   ]
  },
  {
   "cell_type": "code",
   "execution_count": 10,
   "id": "a131b478",
   "metadata": {},
   "outputs": [
    {
     "data": {
      "text/plain": [
       "city_arr\n",
       "Belgorod        90\n",
       "Moscow          90\n",
       "Novokuznetsk    13\n",
       "Name: flight_id, dtype: int64"
      ]
     },
     "execution_count": 10,
     "metadata": {},
     "output_type": "execute_result"
    }
   ],
   "source": [
    "df.groupby('city_arr').flight_id.count()"
   ]
  },
  {
   "cell_type": "markdown",
   "id": "3e84e5a5",
   "metadata": {},
   "source": [
    "Уже видим, проблемы с Новокузнецким направлением. Посмотрим сразу на все убыточные направления."
   ]
  },
  {
   "cell_type": "code",
   "execution_count": 11,
   "id": "f1fe708e",
   "metadata": {},
   "outputs": [
    {
     "data": {
      "text/html": [
       "<div>\n",
       "<style scoped>\n",
       "    .dataframe tbody tr th:only-of-type {\n",
       "        vertical-align: middle;\n",
       "    }\n",
       "\n",
       "    .dataframe tbody tr th {\n",
       "        vertical-align: top;\n",
       "    }\n",
       "\n",
       "    .dataframe thead th {\n",
       "        text-align: right;\n",
       "    }\n",
       "</style>\n",
       "<table border=\"1\" class=\"dataframe\">\n",
       "  <thead>\n",
       "    <tr style=\"text-align: right;\">\n",
       "      <th></th>\n",
       "      <th>flight_id</th>\n",
       "      <th>flight_no</th>\n",
       "      <th>city_dep</th>\n",
       "      <th>city_arr</th>\n",
       "      <th>month_arrival</th>\n",
       "      <th>aircraft_code</th>\n",
       "      <th>flight_time</th>\n",
       "      <th>flight_cost</th>\n",
       "      <th>ticket_count</th>\n",
       "      <th>total_seats</th>\n",
       "      <th>occ_perc</th>\n",
       "      <th>rev</th>\n",
       "      <th>profit</th>\n",
       "      <th>month</th>\n",
       "    </tr>\n",
       "  </thead>\n",
       "  <tbody>\n",
       "    <tr>\n",
       "      <th>180</th>\n",
       "      <td>136511</td>\n",
       "      <td>PG0194</td>\n",
       "      <td>Anapa</td>\n",
       "      <td>Novokuznetsk</td>\n",
       "      <td>2017-02-01</td>\n",
       "      <td>733</td>\n",
       "      <td>305.0</td>\n",
       "      <td>660.0</td>\n",
       "      <td>0</td>\n",
       "      <td>130</td>\n",
       "      <td>0</td>\n",
       "      <td>0</td>\n",
       "      <td>-660.0</td>\n",
       "      <td>2.0</td>\n",
       "    </tr>\n",
       "    <tr>\n",
       "      <th>181</th>\n",
       "      <td>136567</td>\n",
       "      <td>PG0194</td>\n",
       "      <td>Anapa</td>\n",
       "      <td>Novokuznetsk</td>\n",
       "      <td>2017-02-01</td>\n",
       "      <td>733</td>\n",
       "      <td>305.0</td>\n",
       "      <td>660.0</td>\n",
       "      <td>0</td>\n",
       "      <td>130</td>\n",
       "      <td>0</td>\n",
       "      <td>0</td>\n",
       "      <td>-660.0</td>\n",
       "      <td>2.0</td>\n",
       "    </tr>\n",
       "    <tr>\n",
       "      <th>182</th>\n",
       "      <td>136533</td>\n",
       "      <td>PG0194</td>\n",
       "      <td>Anapa</td>\n",
       "      <td>Novokuznetsk</td>\n",
       "      <td>2016-12-01</td>\n",
       "      <td>733</td>\n",
       "      <td>305.0</td>\n",
       "      <td>660.0</td>\n",
       "      <td>0</td>\n",
       "      <td>130</td>\n",
       "      <td>0</td>\n",
       "      <td>0</td>\n",
       "      <td>-660.0</td>\n",
       "      <td>12.0</td>\n",
       "    </tr>\n",
       "    <tr>\n",
       "      <th>183</th>\n",
       "      <td>136534</td>\n",
       "      <td>PG0194</td>\n",
       "      <td>Anapa</td>\n",
       "      <td>Novokuznetsk</td>\n",
       "      <td>2016-12-01</td>\n",
       "      <td>733</td>\n",
       "      <td>305.0</td>\n",
       "      <td>660.0</td>\n",
       "      <td>0</td>\n",
       "      <td>130</td>\n",
       "      <td>0</td>\n",
       "      <td>0</td>\n",
       "      <td>-660.0</td>\n",
       "      <td>12.0</td>\n",
       "    </tr>\n",
       "    <tr>\n",
       "      <th>184</th>\n",
       "      <td>136514</td>\n",
       "      <td>PG0194</td>\n",
       "      <td>Anapa</td>\n",
       "      <td>Novokuznetsk</td>\n",
       "      <td>2017-02-01</td>\n",
       "      <td>733</td>\n",
       "      <td>305.0</td>\n",
       "      <td>660.0</td>\n",
       "      <td>0</td>\n",
       "      <td>130</td>\n",
       "      <td>0</td>\n",
       "      <td>0</td>\n",
       "      <td>-660.0</td>\n",
       "      <td>2.0</td>\n",
       "    </tr>\n",
       "    <tr>\n",
       "      <th>185</th>\n",
       "      <td>136540</td>\n",
       "      <td>PG0194</td>\n",
       "      <td>Anapa</td>\n",
       "      <td>Novokuznetsk</td>\n",
       "      <td>2017-01-01</td>\n",
       "      <td>733</td>\n",
       "      <td>305.0</td>\n",
       "      <td>660.0</td>\n",
       "      <td>0</td>\n",
       "      <td>130</td>\n",
       "      <td>0</td>\n",
       "      <td>0</td>\n",
       "      <td>-660.0</td>\n",
       "      <td>1.0</td>\n",
       "    </tr>\n",
       "    <tr>\n",
       "      <th>186</th>\n",
       "      <td>136564</td>\n",
       "      <td>PG0194</td>\n",
       "      <td>Anapa</td>\n",
       "      <td>Novokuznetsk</td>\n",
       "      <td>2016-12-01</td>\n",
       "      <td>733</td>\n",
       "      <td>305.0</td>\n",
       "      <td>660.0</td>\n",
       "      <td>0</td>\n",
       "      <td>130</td>\n",
       "      <td>0</td>\n",
       "      <td>0</td>\n",
       "      <td>-660.0</td>\n",
       "      <td>12.0</td>\n",
       "    </tr>\n",
       "    <tr>\n",
       "      <th>187</th>\n",
       "      <td>136513</td>\n",
       "      <td>PG0194</td>\n",
       "      <td>Anapa</td>\n",
       "      <td>Novokuznetsk</td>\n",
       "      <td>2017-02-01</td>\n",
       "      <td>733</td>\n",
       "      <td>305.0</td>\n",
       "      <td>660.0</td>\n",
       "      <td>0</td>\n",
       "      <td>130</td>\n",
       "      <td>0</td>\n",
       "      <td>0</td>\n",
       "      <td>-660.0</td>\n",
       "      <td>2.0</td>\n",
       "    </tr>\n",
       "    <tr>\n",
       "      <th>188</th>\n",
       "      <td>136544</td>\n",
       "      <td>PG0194</td>\n",
       "      <td>Anapa</td>\n",
       "      <td>Novokuznetsk</td>\n",
       "      <td>2017-01-01</td>\n",
       "      <td>733</td>\n",
       "      <td>305.0</td>\n",
       "      <td>660.0</td>\n",
       "      <td>0</td>\n",
       "      <td>130</td>\n",
       "      <td>0</td>\n",
       "      <td>0</td>\n",
       "      <td>-660.0</td>\n",
       "      <td>1.0</td>\n",
       "    </tr>\n",
       "    <tr>\n",
       "      <th>189</th>\n",
       "      <td>136560</td>\n",
       "      <td>PG0194</td>\n",
       "      <td>Anapa</td>\n",
       "      <td>Novokuznetsk</td>\n",
       "      <td>2017-01-01</td>\n",
       "      <td>733</td>\n",
       "      <td>305.0</td>\n",
       "      <td>660.0</td>\n",
       "      <td>0</td>\n",
       "      <td>130</td>\n",
       "      <td>0</td>\n",
       "      <td>0</td>\n",
       "      <td>-660.0</td>\n",
       "      <td>1.0</td>\n",
       "    </tr>\n",
       "    <tr>\n",
       "      <th>190</th>\n",
       "      <td>136546</td>\n",
       "      <td>PG0194</td>\n",
       "      <td>Anapa</td>\n",
       "      <td>Novokuznetsk</td>\n",
       "      <td>2017-01-01</td>\n",
       "      <td>733</td>\n",
       "      <td>305.0</td>\n",
       "      <td>660.0</td>\n",
       "      <td>0</td>\n",
       "      <td>130</td>\n",
       "      <td>0</td>\n",
       "      <td>0</td>\n",
       "      <td>-660.0</td>\n",
       "      <td>1.0</td>\n",
       "    </tr>\n",
       "    <tr>\n",
       "      <th>191</th>\n",
       "      <td>136523</td>\n",
       "      <td>PG0194</td>\n",
       "      <td>Anapa</td>\n",
       "      <td>Novokuznetsk</td>\n",
       "      <td>2017-01-01</td>\n",
       "      <td>733</td>\n",
       "      <td>305.0</td>\n",
       "      <td>660.0</td>\n",
       "      <td>0</td>\n",
       "      <td>130</td>\n",
       "      <td>0</td>\n",
       "      <td>0</td>\n",
       "      <td>-660.0</td>\n",
       "      <td>1.0</td>\n",
       "    </tr>\n",
       "    <tr>\n",
       "      <th>192</th>\n",
       "      <td>136518</td>\n",
       "      <td>PG0194</td>\n",
       "      <td>Anapa</td>\n",
       "      <td>Novokuznetsk</td>\n",
       "      <td>2016-12-01</td>\n",
       "      <td>733</td>\n",
       "      <td>305.0</td>\n",
       "      <td>660.0</td>\n",
       "      <td>0</td>\n",
       "      <td>130</td>\n",
       "      <td>0</td>\n",
       "      <td>0</td>\n",
       "      <td>-660.0</td>\n",
       "      <td>12.0</td>\n",
       "    </tr>\n",
       "  </tbody>\n",
       "</table>\n",
       "</div>"
      ],
      "text/plain": [
       "     flight_id flight_no city_dep      city_arr month_arrival aircraft_code  \\\n",
       "180     136511    PG0194    Anapa  Novokuznetsk    2017-02-01           733   \n",
       "181     136567    PG0194    Anapa  Novokuznetsk    2017-02-01           733   \n",
       "182     136533    PG0194    Anapa  Novokuznetsk    2016-12-01           733   \n",
       "183     136534    PG0194    Anapa  Novokuznetsk    2016-12-01           733   \n",
       "184     136514    PG0194    Anapa  Novokuznetsk    2017-02-01           733   \n",
       "185     136540    PG0194    Anapa  Novokuznetsk    2017-01-01           733   \n",
       "186     136564    PG0194    Anapa  Novokuznetsk    2016-12-01           733   \n",
       "187     136513    PG0194    Anapa  Novokuznetsk    2017-02-01           733   \n",
       "188     136544    PG0194    Anapa  Novokuznetsk    2017-01-01           733   \n",
       "189     136560    PG0194    Anapa  Novokuznetsk    2017-01-01           733   \n",
       "190     136546    PG0194    Anapa  Novokuznetsk    2017-01-01           733   \n",
       "191     136523    PG0194    Anapa  Novokuznetsk    2017-01-01           733   \n",
       "192     136518    PG0194    Anapa  Novokuznetsk    2016-12-01           733   \n",
       "\n",
       "     flight_time  flight_cost  ticket_count  total_seats  occ_perc  rev  \\\n",
       "180        305.0        660.0             0          130         0    0   \n",
       "181        305.0        660.0             0          130         0    0   \n",
       "182        305.0        660.0             0          130         0    0   \n",
       "183        305.0        660.0             0          130         0    0   \n",
       "184        305.0        660.0             0          130         0    0   \n",
       "185        305.0        660.0             0          130         0    0   \n",
       "186        305.0        660.0             0          130         0    0   \n",
       "187        305.0        660.0             0          130         0    0   \n",
       "188        305.0        660.0             0          130         0    0   \n",
       "189        305.0        660.0             0          130         0    0   \n",
       "190        305.0        660.0             0          130         0    0   \n",
       "191        305.0        660.0             0          130         0    0   \n",
       "192        305.0        660.0             0          130         0    0   \n",
       "\n",
       "     profit  month  \n",
       "180  -660.0    2.0  \n",
       "181  -660.0    2.0  \n",
       "182  -660.0   12.0  \n",
       "183  -660.0   12.0  \n",
       "184  -660.0    2.0  \n",
       "185  -660.0    1.0  \n",
       "186  -660.0   12.0  \n",
       "187  -660.0    2.0  \n",
       "188  -660.0    1.0  \n",
       "189  -660.0    1.0  \n",
       "190  -660.0    1.0  \n",
       "191  -660.0    1.0  \n",
       "192  -660.0   12.0  "
      ]
     },
     "execution_count": 11,
     "metadata": {},
     "output_type": "execute_result"
    }
   ],
   "source": [
    "df[df.profit < 0]"
   ]
  },
  {
   "cell_type": "markdown",
   "id": "c9207d36",
   "metadata": {},
   "source": [
    "Посмотрим в какие месяцы состоялись данные рейсы"
   ]
  },
  {
   "cell_type": "code",
   "execution_count": 12,
   "id": "1024e1b9",
   "metadata": {},
   "outputs": [
    {
     "data": {
      "text/plain": [
       "1.0     5\n",
       "2.0     4\n",
       "12.0    4\n",
       "Name: month, dtype: int64"
      ]
     },
     "execution_count": 12,
     "metadata": {},
     "output_type": "execute_result"
    }
   ],
   "source": [
    "df[df.profit < 0].month.value_counts()"
   ]
  },
  {
   "cell_type": "markdown",
   "id": "f78c495d",
   "metadata": {},
   "source": [
    "Все 13 полётов в Новокузнецк прошли без проданных билетов. Остальные рейсы являются прибыльными.\n",
    "Это может быть либо ошибка в базе, либо действительно полёты в Новокузнецк проходили без пассажиров.\n",
    "Отметим, что для уменьшения затрат можно предпринять следующие меры: \n",
    "1. Сократить число рейсов в Новокузнецк в каждом зимнем месяце.\n",
    "2. Сменить самолёт с 733 на более экономичный, например SU9"
   ]
  },
  {
   "cell_type": "markdown",
   "id": "39184d8e",
   "metadata": {},
   "source": [
    "Далее мы будем анализировать только рейсы \"Белгород\" и \"Москва\" для более наглядного сравнения и поиска вариантов оптимизации рейсов."
   ]
  },
  {
   "cell_type": "code",
   "execution_count": 13,
   "id": "d0d3c78e",
   "metadata": {},
   "outputs": [],
   "source": [
    "dfBM = df[df['city_arr'] != 'Novokuznetsk'].copy()"
   ]
  },
  {
   "cell_type": "code",
   "execution_count": 14,
   "id": "aa024b58",
   "metadata": {},
   "outputs": [
    {
     "data": {
      "text/plain": [
       "Belgorod    90\n",
       "Moscow      90\n",
       "Name: city_arr, dtype: int64"
      ]
     },
     "execution_count": 14,
     "metadata": {},
     "output_type": "execute_result"
    }
   ],
   "source": [
    "dfBM.city_arr.value_counts()"
   ]
  },
  {
   "cell_type": "code",
   "execution_count": 15,
   "id": "1dc4efc2",
   "metadata": {},
   "outputs": [
    {
     "data": {
      "text/plain": [
       "<AxesSubplot:>"
      ]
     },
     "execution_count": 15,
     "metadata": {},
     "output_type": "execute_result"
    },
    {
     "data": {
      "image/png": "[encoded data removed]",
      "text/plain": [
       "<Figure size 432x288 with 1 Axes>"
      ]
     },
     "metadata": {
      "needs_background": "light"
     },
     "output_type": "display_data"
    }
   ],
   "source": [
    "dfBM.profit.hist(bins = 20)"
   ]
  },
  {
   "cell_type": "markdown",
   "id": "68b5c5f0",
   "metadata": {},
   "source": [
    "Из работы с базой мы знаем, что в Москву и Белгород летают разные самолёты и разным количеством посадочных мест. Проверим две группы на гистограмме это разделение по направлению или на прибыль рейса существенно будет влиять другой фактов."
   ]
  },
  {
   "cell_type": "code",
   "execution_count": 16,
   "id": "49fb96c3",
   "metadata": {},
   "outputs": [
    {
     "data": {
      "text/plain": [
       "Belgorod    90\n",
       "Name: city_arr, dtype: int64"
      ]
     },
     "execution_count": 16,
     "metadata": {},
     "output_type": "execute_result"
    }
   ],
   "source": [
    "dfBM[dfBM.profit < 800].city_arr.value_counts()"
   ]
  },
  {
   "cell_type": "code",
   "execution_count": 17,
   "id": "3eb74189",
   "metadata": {},
   "outputs": [
    {
     "data": {
      "text/plain": [
       "Moscow    90\n",
       "Name: city_arr, dtype: int64"
      ]
     },
     "execution_count": 17,
     "metadata": {},
     "output_type": "execute_result"
    }
   ],
   "source": [
    "dfBM[dfBM.profit > 800].city_arr.value_counts()"
   ]
  },
  {
   "cell_type": "markdown",
   "id": "edce3eac",
   "metadata": {},
   "source": [
    "Действительно, где больше перевезённых пассажиров - там больше прибыль. Проверим насколько заполненными летают рейсы"
   ]
  },
  {
   "cell_type": "code",
   "execution_count": 18,
   "id": "16d9f8f7",
   "metadata": {},
   "outputs": [
    {
     "data": {
      "text/plain": [
       "<AxesSubplot:>"
      ]
     },
     "execution_count": 18,
     "metadata": {},
     "output_type": "execute_result"
    },
    {
     "data": {
      "image/png": "[encoded data removed]",
      "text/plain": [
       "<Figure size 432x288 with 1 Axes>"
      ]
     },
     "metadata": {
      "needs_background": "light"
     },
     "output_type": "display_data"
    }
   ],
   "source": [
    "dfBM.occ_perc.hist(bins = 20)"
   ]
  },
  {
   "cell_type": "code",
   "execution_count": 19,
   "id": "7587e83a",
   "metadata": {},
   "outputs": [
    {
     "data": {
      "text/plain": [
       "<AxesSubplot:>"
      ]
     },
     "execution_count": 19,
     "metadata": {},
     "output_type": "execute_result"
    },
    {
     "data": {
      "image/png": "[encoded data removed]",
      "text/plain": [
       "<Figure size 432x288 with 1 Axes>"
      ]
     },
     "metadata": {
      "needs_background": "light"
     },
     "output_type": "display_data"
    }
   ],
   "source": [
    "dfBM[dfBM.city_arr == 'Moscow'].occ_perc.hist(bins = 20)"
   ]
  },
  {
   "cell_type": "code",
   "execution_count": 20,
   "id": "c55d5c64",
   "metadata": {},
   "outputs": [
    {
     "data": {
      "text/plain": [
       "<AxesSubplot:>"
      ]
     },
     "execution_count": 20,
     "metadata": {},
     "output_type": "execute_result"
    },
    {
     "data": {
      "image/png": "[encoded data removed]",
      "text/plain": [
       "<Figure size 432x288 with 1 Axes>"
      ]
     },
     "metadata": {
      "needs_background": "light"
     },
     "output_type": "display_data"
    }
   ],
   "source": [
    "dfBM[dfBM.city_arr == 'Belgorod'].occ_perc.hist(bins = 20)"
   ]
  },
  {
   "cell_type": "markdown",
   "id": "1ec032f2",
   "metadata": {},
   "source": [
    "В Белгород самолёты чаще летают заполненными под 100%, но картина не отличается не кардинально."
   ]
  },
  {
   "cell_type": "code",
   "execution_count": 21,
   "id": "61c75dea",
   "metadata": {},
   "outputs": [
    {
     "data": {
      "text/plain": [
       "65      1\n",
       "70      2\n",
       "71      1\n",
       "74      3\n",
       "76      4\n",
       "78      3\n",
       "79      2\n",
       "80      9\n",
       "81      7\n",
       "82      6\n",
       "83     11\n",
       "84     10\n",
       "85      3\n",
       "86      3\n",
       "87      2\n",
       "88      5\n",
       "89     11\n",
       "90     12\n",
       "91      4\n",
       "92      8\n",
       "93      5\n",
       "94      3\n",
       "95      3\n",
       "96      8\n",
       "97      4\n",
       "98     17\n",
       "99      5\n",
       "100    28\n",
       "Name: occ_perc, dtype: int64"
      ]
     },
     "execution_count": 21,
     "metadata": {},
     "output_type": "execute_result"
    }
   ],
   "source": [
    "dfBM.occ_perc.value_counts().sort_index()"
   ]
  },
  {
   "cell_type": "markdown",
   "id": "a25891e2",
   "metadata": {},
   "source": [
    "Только один рейс имеет загрузку менее 70%, подавляющее большинство имееют загрузку 80% и более для обоих направлений. Это хорошие показатели."
   ]
  },
  {
   "cell_type": "markdown",
   "id": "a7592eff",
   "metadata": {},
   "source": [
    "Проверим разницу в показателях между месяцами. Может быть до нового года или после активность пассажиров как-то меняется."
   ]
  },
  {
   "cell_type": "code",
   "execution_count": 22,
   "id": "2d905637",
   "metadata": {},
   "outputs": [
    {
     "data": {
      "text/plain": [
       "1.0     62\n",
       "12.0    62\n",
       "2.0     56\n",
       "Name: month, dtype: int64"
      ]
     },
     "execution_count": 22,
     "metadata": {},
     "output_type": "execute_result"
    }
   ],
   "source": [
    "dfBM.month.value_counts()"
   ]
  },
  {
   "cell_type": "markdown",
   "id": "c7016777",
   "metadata": {},
   "source": [
    "В феврале было немного меньше рейсов. Посмотрим отразилось ли это на общую прибыль, среднюю прибыль за рейс и загрузку пассажиров."
   ]
  },
  {
   "cell_type": "code",
   "execution_count": 23,
   "id": "a999e13e",
   "metadata": {},
   "outputs": [
    {
     "data": {
      "text/html": [
       "<div>\n",
       "<style scoped>\n",
       "    .dataframe tbody tr th:only-of-type {\n",
       "        vertical-align: middle;\n",
       "    }\n",
       "\n",
       "    .dataframe tbody tr th {\n",
       "        vertical-align: top;\n",
       "    }\n",
       "\n",
       "    .dataframe thead th {\n",
       "        text-align: right;\n",
       "    }\n",
       "</style>\n",
       "<table border=\"1\" class=\"dataframe\">\n",
       "  <thead>\n",
       "    <tr style=\"text-align: right;\">\n",
       "      <th></th>\n",
       "      <th>flight_id</th>\n",
       "      <th>flight_time</th>\n",
       "      <th>flight_cost</th>\n",
       "      <th>ticket_count</th>\n",
       "      <th>total_seats</th>\n",
       "      <th>occ_perc</th>\n",
       "      <th>rev</th>\n",
       "      <th>profit</th>\n",
       "    </tr>\n",
       "    <tr>\n",
       "      <th>month</th>\n",
       "      <th></th>\n",
       "      <th></th>\n",
       "      <th></th>\n",
       "      <th></th>\n",
       "      <th></th>\n",
       "      <th></th>\n",
       "      <th></th>\n",
       "      <th></th>\n",
       "    </tr>\n",
       "  </thead>\n",
       "  <tbody>\n",
       "    <tr>\n",
       "      <th>1.0</th>\n",
       "      <td>136527.403226</td>\n",
       "      <td>75.0</td>\n",
       "      <td>185.5</td>\n",
       "      <td>102.096774</td>\n",
       "      <td>113.5</td>\n",
       "      <td>89.854839</td>\n",
       "      <td>1182.903226</td>\n",
       "      <td>997.403226</td>\n",
       "    </tr>\n",
       "    <tr>\n",
       "      <th>2.0</th>\n",
       "      <td>136540.125000</td>\n",
       "      <td>75.0</td>\n",
       "      <td>185.5</td>\n",
       "      <td>101.160714</td>\n",
       "      <td>113.5</td>\n",
       "      <td>89.142857</td>\n",
       "      <td>1169.321429</td>\n",
       "      <td>983.821429</td>\n",
       "    </tr>\n",
       "    <tr>\n",
       "      <th>12.0</th>\n",
       "      <td>136554.790323</td>\n",
       "      <td>75.0</td>\n",
       "      <td>185.5</td>\n",
       "      <td>102.516129</td>\n",
       "      <td>113.5</td>\n",
       "      <td>90.290323</td>\n",
       "      <td>1185.629032</td>\n",
       "      <td>1000.129032</td>\n",
       "    </tr>\n",
       "  </tbody>\n",
       "</table>\n",
       "</div>"
      ],
      "text/plain": [
       "           flight_id  flight_time  flight_cost  ticket_count  total_seats  \\\n",
       "month                                                                       \n",
       "1.0    136527.403226         75.0        185.5    102.096774        113.5   \n",
       "2.0    136540.125000         75.0        185.5    101.160714        113.5   \n",
       "12.0   136554.790323         75.0        185.5    102.516129        113.5   \n",
       "\n",
       "        occ_perc          rev       profit  \n",
       "month                                       \n",
       "1.0    89.854839  1182.903226   997.403226  \n",
       "2.0    89.142857  1169.321429   983.821429  \n",
       "12.0   90.290323  1185.629032  1000.129032  "
      ]
     },
     "execution_count": 23,
     "metadata": {},
     "output_type": "execute_result"
    }
   ],
   "source": [
    "dfBM.groupby('month').mean()"
   ]
  },
  {
   "cell_type": "markdown",
   "id": "4234ab5f",
   "metadata": {},
   "source": [
    "Средняя прибыль и средняя загрузка на сравнительно одинаковом уровне."
   ]
  },
  {
   "cell_type": "code",
   "execution_count": 24,
   "id": "62a4c61c",
   "metadata": {},
   "outputs": [
    {
     "data": {
      "text/html": [
       "<div>\n",
       "<style scoped>\n",
       "    .dataframe tbody tr th:only-of-type {\n",
       "        vertical-align: middle;\n",
       "    }\n",
       "\n",
       "    .dataframe tbody tr th {\n",
       "        vertical-align: top;\n",
       "    }\n",
       "\n",
       "    .dataframe thead th {\n",
       "        text-align: right;\n",
       "    }\n",
       "</style>\n",
       "<table border=\"1\" class=\"dataframe\">\n",
       "  <thead>\n",
       "    <tr style=\"text-align: right;\">\n",
       "      <th></th>\n",
       "      <th>flight_id</th>\n",
       "      <th>flight_time</th>\n",
       "      <th>flight_cost</th>\n",
       "      <th>ticket_count</th>\n",
       "      <th>total_seats</th>\n",
       "      <th>occ_perc</th>\n",
       "      <th>rev</th>\n",
       "      <th>profit</th>\n",
       "    </tr>\n",
       "    <tr>\n",
       "      <th>month</th>\n",
       "      <th></th>\n",
       "      <th></th>\n",
       "      <th></th>\n",
       "      <th></th>\n",
       "      <th></th>\n",
       "      <th></th>\n",
       "      <th></th>\n",
       "      <th></th>\n",
       "    </tr>\n",
       "  </thead>\n",
       "  <tbody>\n",
       "    <tr>\n",
       "      <th>1.0</th>\n",
       "      <td>8464699</td>\n",
       "      <td>4650.0</td>\n",
       "      <td>11501.0</td>\n",
       "      <td>6330</td>\n",
       "      <td>7037</td>\n",
       "      <td>5571</td>\n",
       "      <td>73340</td>\n",
       "      <td>61839.0</td>\n",
       "    </tr>\n",
       "    <tr>\n",
       "      <th>2.0</th>\n",
       "      <td>7646247</td>\n",
       "      <td>4200.0</td>\n",
       "      <td>10388.0</td>\n",
       "      <td>5665</td>\n",
       "      <td>6356</td>\n",
       "      <td>4992</td>\n",
       "      <td>65482</td>\n",
       "      <td>55094.0</td>\n",
       "    </tr>\n",
       "    <tr>\n",
       "      <th>12.0</th>\n",
       "      <td>8466397</td>\n",
       "      <td>4650.0</td>\n",
       "      <td>11501.0</td>\n",
       "      <td>6356</td>\n",
       "      <td>7037</td>\n",
       "      <td>5598</td>\n",
       "      <td>73509</td>\n",
       "      <td>62008.0</td>\n",
       "    </tr>\n",
       "  </tbody>\n",
       "</table>\n",
       "</div>"
      ],
      "text/plain": [
       "       flight_id  flight_time  flight_cost  ticket_count  total_seats  \\\n",
       "month                                                                   \n",
       "1.0      8464699       4650.0      11501.0          6330         7037   \n",
       "2.0      7646247       4200.0      10388.0          5665         6356   \n",
       "12.0     8466397       4650.0      11501.0          6356         7037   \n",
       "\n",
       "       occ_perc    rev   profit  \n",
       "month                            \n",
       "1.0        5571  73340  61839.0  \n",
       "2.0        4992  65482  55094.0  \n",
       "12.0       5598  73509  62008.0  "
      ]
     },
     "execution_count": 24,
     "metadata": {},
     "output_type": "execute_result"
    }
   ],
   "source": [
    "dfBM.groupby('month').sum()"
   ]
  },
  {
   "cell_type": "markdown",
   "id": "aa42215a",
   "metadata": {},
   "source": [
    "Общая прибыль меньше в феврале, но это обуславливается меньшим количеством перевезённых пассажиров и меньшим количеством рейсов, которое мы подметили ранее."
   ]
  },
  {
   "cell_type": "markdown",
   "id": "3b8b829a",
   "metadata": {},
   "source": [
    "Посмотрим в какие месяцы летают рейсы по направлениям Москва и Белгород."
   ]
  },
  {
   "cell_type": "code",
   "execution_count": 25,
   "id": "2c0211ff",
   "metadata": {},
   "outputs": [],
   "source": [
    "dummi = pd.get_dummies(dfBM['month'], columns=['month']).copy() \n",
    "dfBM= pd.concat([dfBM, dummi], axis=1)"
   ]
  },
  {
   "cell_type": "code",
   "execution_count": 26,
   "id": "90824862",
   "metadata": {},
   "outputs": [
    {
     "data": {
      "text/html": [
       "<div>\n",
       "<style scoped>\n",
       "    .dataframe tbody tr th:only-of-type {\n",
       "        vertical-align: middle;\n",
       "    }\n",
       "\n",
       "    .dataframe tbody tr th {\n",
       "        vertical-align: top;\n",
       "    }\n",
       "\n",
       "    .dataframe thead th {\n",
       "        text-align: right;\n",
       "    }\n",
       "</style>\n",
       "<table border=\"1\" class=\"dataframe\">\n",
       "  <thead>\n",
       "    <tr style=\"text-align: right;\">\n",
       "      <th></th>\n",
       "      <th>1.0</th>\n",
       "      <th>2.0</th>\n",
       "      <th>12.0</th>\n",
       "    </tr>\n",
       "    <tr>\n",
       "      <th>city_arr</th>\n",
       "      <th></th>\n",
       "      <th></th>\n",
       "      <th></th>\n",
       "    </tr>\n",
       "  </thead>\n",
       "  <tbody>\n",
       "    <tr>\n",
       "      <th>Belgorod</th>\n",
       "      <td>31</td>\n",
       "      <td>28</td>\n",
       "      <td>31</td>\n",
       "    </tr>\n",
       "    <tr>\n",
       "      <th>Moscow</th>\n",
       "      <td>31</td>\n",
       "      <td>28</td>\n",
       "      <td>31</td>\n",
       "    </tr>\n",
       "  </tbody>\n",
       "</table>\n",
       "</div>"
      ],
      "text/plain": [
       "          1.0   2.0   12.0\n",
       "city_arr                  \n",
       "Belgorod    31    28    31\n",
       "Moscow      31    28    31"
      ]
     },
     "execution_count": 26,
     "metadata": {},
     "output_type": "execute_result"
    }
   ],
   "source": [
    "dfBM.groupby('city_arr').sum().iloc[:,-3:]"
   ]
  },
  {
   "cell_type": "markdown",
   "id": "de2133a6",
   "metadata": {},
   "source": [
    "Рейсы летают с одинаковой регулярностью внутри месяцев."
   ]
  },
  {
   "cell_type": "markdown",
   "id": "8d3fed21",
   "metadata": {},
   "source": [
    "Посмотрим визуально на разницу влияния месяцев на прибыль и загрузку."
   ]
  },
  {
   "cell_type": "code",
   "execution_count": 27,
   "id": "f44ee91d",
   "metadata": {},
   "outputs": [
    {
     "data": {
      "image/png": "[encoded data removed]",
      "text/plain": [
       "<Figure size 1080x360 with 1 Axes>"
      ]
     },
     "metadata": {
      "needs_background": "light"
     },
     "output_type": "display_data"
    }
   ],
   "source": [
    "fig, ax = plt.subplots(figsize = (15, 5))\n",
    "sns.boxplot(x='month', y='profit',data=dfBM.loc[dfBM.loc[:, 'month'].isin(df.loc[:, 'month'].value_counts().index[:])],ax=ax)\n",
    "\n",
    "plt.xticks(rotation=90)\n",
    "ax.set_title('Boxplot for month')\n",
    "\n",
    "plt.show()"
   ]
  },
  {
   "cell_type": "code",
   "execution_count": 28,
   "id": "143ad893",
   "metadata": {
    "scrolled": true
   },
   "outputs": [
    {
     "data": {
      "image/png": "[encoded data removed]",
      "text/plain": [
       "<Figure size 1080x360 with 1 Axes>"
      ]
     },
     "metadata": {
      "needs_background": "light"
     },
     "output_type": "display_data"
    }
   ],
   "source": [
    "fig, ax = plt.subplots(figsize = (15, 5))\n",
    "sns.boxplot(x='month', y='occ_perc',data=dfBM.loc[df.loc[:, 'month'].isin(dfBM.loc[:, 'month'].value_counts().index[:])],ax=ax)\n",
    "\n",
    "plt.xticks(rotation=90)\n",
    "ax.set_title('Boxplot for month')\n",
    "\n",
    "plt.show()"
   ]
  },
  {
   "attachments": {},
   "cell_type": "markdown",
   "id": "4ba6b7ce",
   "metadata": {},
   "source": [
    "# Основные выводы:\n",
    "### Новокузнецкое направление является убыточным:  \n",
    "оно является непопулярным: за 13 рейсов не продано ни одного билета  \n",
    "рейсы данного направления самые дорогие, т.к. обладают самой большой длительностью перелётов и без необходимости используют самолёты с большим расходом топлива\n",
    "### Направления «Москва» и «Белгород» являются прибыльными: \n",
    "направления в большинстве обладают хорошей загрузкой пассажирами 80% и более во все зимние времена месяца, что обуславливается оптимальным типом самолёта и оптимальным количеством рейсов по этому направлению в разные зимние месяцы\n",
    "\n",
    "### Рекомендации для уменьшения издержек по убыточным направлениям:\n",
    "сократить количество рейсов, для увеличения загрузки пассажирами  \n",
    "выбрать для авиаперевозок оптимальный тип самолёта, который будет соответствовать длительным экономичным перевозкам небольшого количества пассажиров  \n",
    "уточнить актуальность направления, ориентируясь на спрос населения и результаты других авиакомпаний по данному направлению"
   ]
  }
 ],
 "metadata": {
  "kernelspec": {
   "display_name": "Python 3",
   "language": "python",
   "name": "python3"
  },
  "language_info": {
   "codemirror_mode": {
    "name": "ipython",
    "version": 3
   },
   "file_extension": ".py",
   "mimetype": "text/x-python",
   "name": "python",
   "nbconvert_exporter": "python",
   "pygments_lexer": "ipython3",
   "version": "3.8.8"
  }
 },
 "nbformat": 4,
 "nbformat_minor": 5
}
